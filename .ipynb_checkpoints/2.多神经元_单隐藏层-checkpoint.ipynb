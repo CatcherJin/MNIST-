{
 "cells": [
  {
   "cell_type": "code",
   "execution_count": 1,
   "metadata": {},
   "outputs": [
    {
     "name": "stdout",
     "output_type": "stream",
     "text": [
      "WARNING:tensorflow:From <ipython-input-1-972c79a77be8>:3: read_data_sets (from tensorflow.contrib.learn.python.learn.datasets.mnist) is deprecated and will be removed in a future version.\n",
      "Instructions for updating:\n",
      "Please use alternatives such as official/mnist/dataset.py from tensorflow/models.\n",
      "WARNING:tensorflow:From C:\\Users\\Admin\\Anaconda3\\lib\\site-packages\\tensorflow\\contrib\\learn\\python\\learn\\datasets\\mnist.py:260: maybe_download (from tensorflow.contrib.learn.python.learn.datasets.base) is deprecated and will be removed in a future version.\n",
      "Instructions for updating:\n",
      "Please write your own downloading logic.\n",
      "WARNING:tensorflow:From C:\\Users\\Admin\\Anaconda3\\lib\\site-packages\\tensorflow\\contrib\\learn\\python\\learn\\datasets\\mnist.py:262: extract_images (from tensorflow.contrib.learn.python.learn.datasets.mnist) is deprecated and will be removed in a future version.\n",
      "Instructions for updating:\n",
      "Please use tf.data to implement this functionality.\n",
      "Extracting MNIST_data/train-images-idx3-ubyte.gz\n",
      "WARNING:tensorflow:From C:\\Users\\Admin\\Anaconda3\\lib\\site-packages\\tensorflow\\contrib\\learn\\python\\learn\\datasets\\mnist.py:267: extract_labels (from tensorflow.contrib.learn.python.learn.datasets.mnist) is deprecated and will be removed in a future version.\n",
      "Instructions for updating:\n",
      "Please use tf.data to implement this functionality.\n",
      "Extracting MNIST_data/train-labels-idx1-ubyte.gz\n",
      "WARNING:tensorflow:From C:\\Users\\Admin\\Anaconda3\\lib\\site-packages\\tensorflow\\contrib\\learn\\python\\learn\\datasets\\mnist.py:110: dense_to_one_hot (from tensorflow.contrib.learn.python.learn.datasets.mnist) is deprecated and will be removed in a future version.\n",
      "Instructions for updating:\n",
      "Please use tf.one_hot on tensors.\n",
      "Extracting MNIST_data/t10k-images-idx3-ubyte.gz\n",
      "Extracting MNIST_data/t10k-labels-idx1-ubyte.gz\n",
      "WARNING:tensorflow:From C:\\Users\\Admin\\Anaconda3\\lib\\site-packages\\tensorflow\\contrib\\learn\\python\\learn\\datasets\\mnist.py:290: DataSet.__init__ (from tensorflow.contrib.learn.python.learn.datasets.mnist) is deprecated and will be removed in a future version.\n",
      "Instructions for updating:\n",
      "Please use alternatives such as official/mnist/dataset.py from tensorflow/models.\n"
     ]
    }
   ],
   "source": [
    "import tensorflow as tf\n",
    "import tensorflow.examples.tutorials.mnist.input_data as input_data\n",
    "mnist = input_data.read_data_sets(\"MNIST_data/\",one_hot=True)"
   ]
  },
  {
   "cell_type": "code",
   "execution_count": 2,
   "metadata": {},
   "outputs": [],
   "source": [
    "#特征值\n",
    "x = tf.placeholder(tf.float32,[None,784],name=\"X\")\n",
    "#标签值\n",
    "y = tf.placeholder(tf.float32,[None,10],name=\"Y\")"
   ]
  },
  {
   "cell_type": "code",
   "execution_count": 3,
   "metadata": {},
   "outputs": [],
   "source": [
    "#隐藏层神经元数量\n",
    "H1_NN = 256\n",
    "\n",
    "W1 = tf.Variable(tf.random_normal([784,H1_NN]))\n",
    "b1 = tf.Variable(tf.zeros([H1_NN]))\n",
    "\n",
    "Y1 = tf.nn.relu(tf.matmul(x,W1)+b1)"
   ]
  },
  {
   "cell_type": "markdown",
   "metadata": {},
   "source": [
    "输出层我们大多采用softmax或sigmoid函数来输出分类概率值  \n",
    "在多元分类的问题中，我们默认采用softmax激活函数"
   ]
  },
  {
   "cell_type": "code",
   "execution_count": 4,
   "metadata": {},
   "outputs": [],
   "source": [
    "#构建输出层\n",
    "W2 = tf.Variable(tf.random_normal([H1_NN,10]))\n",
    "b2 = tf.Variable(tf.zeros([10]))\n",
    "\n",
    "forward = tf.matmul(Y1,W2) + b2\n",
    "pred = tf.nn.softmax(forward)"
   ]
  },
  {
   "cell_type": "markdown",
   "metadata": {},
   "source": [
    "TensorFlow提供了结合Softmax的交叉熵损失函数定义方法  \n",
    "用于避免log(0)的造成的NaN值"
   ]
  },
  {
   "cell_type": "code",
   "execution_count": 5,
   "metadata": {},
   "outputs": [
    {
     "name": "stdout",
     "output_type": "stream",
     "text": [
      "WARNING:tensorflow:From <ipython-input-5-2e5ea2ad3a83>:3: softmax_cross_entropy_with_logits (from tensorflow.python.ops.nn_ops) is deprecated and will be removed in a future version.\n",
      "Instructions for updating:\n",
      "\n",
      "Future major versions of TensorFlow will allow gradients to flow\n",
      "into the labels input on backprop by default.\n",
      "\n",
      "See `tf.nn.softmax_cross_entropy_with_logits_v2`.\n",
      "\n"
     ]
    }
   ],
   "source": [
    "#注意：这里代进去的是没有经过SoftMax的forward\n",
    "loss_function = tf.reduce_mean(\n",
    "                tf.nn.softmax_cross_entropy_with_logits(logits=forward,labels=y))"
   ]
  },
  {
   "cell_type": "code",
   "execution_count": 6,
   "metadata": {},
   "outputs": [],
   "source": [
    "#设置参数\n",
    "train_epochs = 40 #训练40轮\n",
    "batch_size = 50 #单次训练样本数（批次大小）\n",
    "total_batch = int(mnist.train.num_examples/batch_size)#一轮训练有多少批次\n",
    "display_step = 1 #显示粒度\n",
    "learning_rate = 0.01 #学习率"
   ]
  },
  {
   "cell_type": "code",
   "execution_count": 7,
   "metadata": {},
   "outputs": [],
   "source": [
    "#这次选用Adam优化器\n",
    "optimizer = tf.train.AdamOptimizer(learning_rate).minimize(loss_function)"
   ]
  },
  {
   "cell_type": "code",
   "execution_count": 8,
   "metadata": {},
   "outputs": [],
   "source": [
    "correct_prediction = tf.equal(tf.argmax(y,1),tf.argmax(pred,1))\n",
    "accuracy = tf.reduce_mean(tf.cast(correct_prediction,tf.float32))"
   ]
  },
  {
   "cell_type": "code",
   "execution_count": 9,
   "metadata": {},
   "outputs": [
    {
     "name": "stdout",
     "output_type": "stream",
     "text": [
      "Train Epoch: 01 Loss= 1.190989494 Accuracy= 0.9408\n",
      "Train Epoch: 02 Loss= 0.738638520 Accuracy= 0.9438\n",
      "Train Epoch: 03 Loss= 0.496967584 Accuracy= 0.9562\n",
      "Train Epoch: 04 Loss= 0.417580873 Accuracy= 0.9598\n",
      "Train Epoch: 05 Loss= 0.457536817 Accuracy= 0.9622\n",
      "Train Epoch: 06 Loss= 0.373847008 Accuracy= 0.9568\n",
      "Train Epoch: 07 Loss= 0.436389804 Accuracy= 0.9582\n",
      "Train Epoch: 08 Loss= 0.359113574 Accuracy= 0.9600\n",
      "Train Epoch: 09 Loss= 0.451741636 Accuracy= 0.9634\n",
      "Train Epoch: 10 Loss= 0.407143503 Accuracy= 0.9638\n",
      "Train Epoch: 11 Loss= 0.492540807 Accuracy= 0.9606\n",
      "Train Epoch: 12 Loss= 0.433723778 Accuracy= 0.9644\n",
      "Train Epoch: 13 Loss= 0.420695454 Accuracy= 0.9674\n",
      "Train Epoch: 14 Loss= 0.390882164 Accuracy= 0.9712\n",
      "Train Epoch: 15 Loss= 0.416325390 Accuracy= 0.9692\n",
      "Train Epoch: 16 Loss= 0.415054888 Accuracy= 0.9700\n",
      "Train Epoch: 17 Loss= 0.559439182 Accuracy= 0.9628\n",
      "Train Epoch: 18 Loss= 0.554942071 Accuracy= 0.9692\n",
      "Train Epoch: 19 Loss= 0.513705254 Accuracy= 0.9702\n",
      "Train Epoch: 20 Loss= 0.488104492 Accuracy= 0.9732\n",
      "Train Epoch: 21 Loss= 0.547371805 Accuracy= 0.9700\n",
      "Train Epoch: 22 Loss= 0.605589867 Accuracy= 0.9710\n",
      "Train Epoch: 23 Loss= 0.572459042 Accuracy= 0.9738\n",
      "Train Epoch: 24 Loss= 0.592296183 Accuracy= 0.9714\n",
      "Train Epoch: 25 Loss= 0.606438100 Accuracy= 0.9708\n",
      "Train Epoch: 26 Loss= 0.694524169 Accuracy= 0.9740\n",
      "Train Epoch: 27 Loss= 0.650822341 Accuracy= 0.9734\n",
      "Train Epoch: 28 Loss= 0.555850804 Accuracy= 0.9788\n",
      "Train Epoch: 29 Loss= 0.612890184 Accuracy= 0.9764\n",
      "Train Epoch: 30 Loss= 0.727039576 Accuracy= 0.9728\n",
      "Train Epoch: 31 Loss= 0.692570031 Accuracy= 0.9742\n",
      "Train Epoch: 32 Loss= 0.654874980 Accuracy= 0.9754\n",
      "Train Epoch: 33 Loss= 0.677001953 Accuracy= 0.9762\n",
      "Train Epoch: 34 Loss= 0.842009544 Accuracy= 0.9762\n",
      "Train Epoch: 35 Loss= 0.664842546 Accuracy= 0.9772\n",
      "Train Epoch: 36 Loss= 0.764546156 Accuracy= 0.9776\n",
      "Train Epoch: 37 Loss= 0.728371024 Accuracy= 0.9770\n",
      "Train Epoch: 38 Loss= 0.842720687 Accuracy= 0.9768\n",
      "Train Epoch: 39 Loss= 0.685564160 Accuracy= 0.9770\n",
      "Train Epoch: 40 Loss= 0.851061523 Accuracy= 0.9792\n",
      "Train Finished!\n",
      "It takes: 82.74\n"
     ]
    }
   ],
   "source": [
    "#开始训练\n",
    "from time import time\n",
    "startTime=time()\n",
    "\n",
    "sess = tf.Session()\n",
    "init = tf.global_variables_initializer()#变量初始化\n",
    "sess.run(init)\n",
    "\n",
    "for epoch in range(train_epochs):\n",
    "    for batch in range(total_batch):\n",
    "        xs,ys = mnist.train.next_batch(batch_size)#读取批次数据\n",
    "        sess.run(optimizer,feed_dict={x:xs,y:ys})#执行批次训练\n",
    "        \n",
    "    #total_batch个批次训练完成后 使用验证数据计算误差与准确率 验证集没有分批\n",
    "    loss,acc = sess.run([loss_function,accuracy],\n",
    "                       feed_dict={x:mnist.validation.images,y:mnist.validation.labels})\n",
    "    \n",
    "    #打印训练过程中的详细信息\n",
    "    if (epoch+1) % display_step ==0:\n",
    "        print(\"Train Epoch:\",'%02d' % (epoch+1),\"Loss=\",\"{:.9f}\".format(loss),\\\n",
    "              \"Accuracy=\",\"{:.4f}\".format(acc))\n",
    "\n",
    "duration = time()-startTime\n",
    "print(\"Train Finished!\")\n",
    "print(\"It takes:\",\"{:.2f}\".format(duration))"
   ]
  },
  {
   "cell_type": "code",
   "execution_count": 10,
   "metadata": {},
   "outputs": [
    {
     "name": "stdout",
     "output_type": "stream",
     "text": [
      "Test Accuracy: 0.9739\n"
     ]
    }
   ],
   "source": [
    "#用测试集数据进行测试 看看准确率\n",
    "acc_test = sess.run(accuracy,\n",
    "                   feed_dict={x:mnist.test.images,y:mnist.test.labels})\n",
    "print(\"Test Accuracy:\",acc_test)"
   ]
  },
  {
   "cell_type": "code",
   "execution_count": null,
   "metadata": {},
   "outputs": [],
   "source": []
  }
 ],
 "metadata": {
  "kernelspec": {
   "display_name": "Python 3",
   "language": "python",
   "name": "python3"
  },
  "language_info": {
   "codemirror_mode": {
    "name": "ipython",
    "version": 3
   },
   "file_extension": ".py",
   "mimetype": "text/x-python",
   "name": "python",
   "nbconvert_exporter": "python",
   "pygments_lexer": "ipython3",
   "version": "3.6.5"
  }
 },
 "nbformat": 4,
 "nbformat_minor": 2
}
