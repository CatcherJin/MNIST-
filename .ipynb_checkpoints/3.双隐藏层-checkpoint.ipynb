{
 "cells": [
  {
   "cell_type": "code",
   "execution_count": 1,
   "metadata": {},
   "outputs": [
    {
     "name": "stdout",
     "output_type": "stream",
     "text": [
      "WARNING:tensorflow:From <ipython-input-1-972c79a77be8>:3: read_data_sets (from tensorflow.contrib.learn.python.learn.datasets.mnist) is deprecated and will be removed in a future version.\n",
      "Instructions for updating:\n",
      "Please use alternatives such as official/mnist/dataset.py from tensorflow/models.\n",
      "WARNING:tensorflow:From C:\\Users\\Admin\\Anaconda3\\lib\\site-packages\\tensorflow\\contrib\\learn\\python\\learn\\datasets\\mnist.py:260: maybe_download (from tensorflow.contrib.learn.python.learn.datasets.base) is deprecated and will be removed in a future version.\n",
      "Instructions for updating:\n",
      "Please write your own downloading logic.\n",
      "WARNING:tensorflow:From C:\\Users\\Admin\\Anaconda3\\lib\\site-packages\\tensorflow\\contrib\\learn\\python\\learn\\datasets\\mnist.py:262: extract_images (from tensorflow.contrib.learn.python.learn.datasets.mnist) is deprecated and will be removed in a future version.\n",
      "Instructions for updating:\n",
      "Please use tf.data to implement this functionality.\n",
      "Extracting MNIST_data/train-images-idx3-ubyte.gz\n",
      "WARNING:tensorflow:From C:\\Users\\Admin\\Anaconda3\\lib\\site-packages\\tensorflow\\contrib\\learn\\python\\learn\\datasets\\mnist.py:267: extract_labels (from tensorflow.contrib.learn.python.learn.datasets.mnist) is deprecated and will be removed in a future version.\n",
      "Instructions for updating:\n",
      "Please use tf.data to implement this functionality.\n",
      "Extracting MNIST_data/train-labels-idx1-ubyte.gz\n",
      "WARNING:tensorflow:From C:\\Users\\Admin\\Anaconda3\\lib\\site-packages\\tensorflow\\contrib\\learn\\python\\learn\\datasets\\mnist.py:110: dense_to_one_hot (from tensorflow.contrib.learn.python.learn.datasets.mnist) is deprecated and will be removed in a future version.\n",
      "Instructions for updating:\n",
      "Please use tf.one_hot on tensors.\n",
      "Extracting MNIST_data/t10k-images-idx3-ubyte.gz\n",
      "Extracting MNIST_data/t10k-labels-idx1-ubyte.gz\n",
      "WARNING:tensorflow:From C:\\Users\\Admin\\Anaconda3\\lib\\site-packages\\tensorflow\\contrib\\learn\\python\\learn\\datasets\\mnist.py:290: DataSet.__init__ (from tensorflow.contrib.learn.python.learn.datasets.mnist) is deprecated and will be removed in a future version.\n",
      "Instructions for updating:\n",
      "Please use alternatives such as official/mnist/dataset.py from tensorflow/models.\n"
     ]
    }
   ],
   "source": [
    "import tensorflow as tf\n",
    "import tensorflow.examples.tutorials.mnist.input_data as input_data\n",
    "mnist = input_data.read_data_sets(\"MNIST_data/\",one_hot=True)"
   ]
  },
  {
   "cell_type": "code",
   "execution_count": 2,
   "metadata": {},
   "outputs": [],
   "source": [
    "#特征值\n",
    "x = tf.placeholder(tf.float32,[None,784],name=\"X\")\n",
    "#标签值\n",
    "y = tf.placeholder(tf.float32,[None,10],name=\"Y\")"
   ]
  },
  {
   "cell_type": "code",
   "execution_count": 3,
   "metadata": {},
   "outputs": [],
   "source": [
    "#隐藏层神经元数量\n",
    "H1_NN = 256\n",
    "H2_NN = 64\n",
    "\n",
    "W1 = tf.Variable(tf.truncated_normal([784,H1_NN],stddev=0.1))\n",
    "b1 = tf.Variable(tf.zeros([H1_NN]))\n",
    "\n",
    "W2 = tf.Variable(tf.truncated_normal([H1_NN,H2_NN],stddev=0.1))\n",
    "b2 = tf.Variable(tf.zeros([H2_NN]))\n",
    "\n",
    "W3 = tf.Variable(tf.truncated_normal([H2_NN,10],stddev=0.1))\n",
    "b3 = tf.Variable(tf.zeros([10]))\n",
    "\n",
    "#隐藏层用rulu激活\n",
    "Y1 = tf.nn.relu(tf.matmul(x,W1)+b1)#第1隐藏层结果 \n",
    "\n",
    "Y2 = tf.nn.relu(tf.matmul(Y1,W2)+b2)#第2隐藏层结果\n",
    "\n",
    "#计算输出结果  结果用softmax激活（分类型softmax比较好）\n",
    "forward = tf.matmul(Y2,W3)+b3\n",
    "pred = tf.nn.softmax(forward)"
   ]
  },
  {
   "cell_type": "markdown",
   "metadata": {},
   "source": [
    "TensorFlow提供了结合Softmax的交叉熵损失函数定义方法  \n",
    "用于避免log(0)的造成的NaN值"
   ]
  },
  {
   "cell_type": "code",
   "execution_count": 4,
   "metadata": {},
   "outputs": [
    {
     "name": "stdout",
     "output_type": "stream",
     "text": [
      "WARNING:tensorflow:From <ipython-input-4-2e5ea2ad3a83>:3: softmax_cross_entropy_with_logits (from tensorflow.python.ops.nn_ops) is deprecated and will be removed in a future version.\n",
      "Instructions for updating:\n",
      "\n",
      "Future major versions of TensorFlow will allow gradients to flow\n",
      "into the labels input on backprop by default.\n",
      "\n",
      "See `tf.nn.softmax_cross_entropy_with_logits_v2`.\n",
      "\n"
     ]
    }
   ],
   "source": [
    "#注意：这里代进去的是没有经过SoftMax的forward\n",
    "loss_function = tf.reduce_mean(\n",
    "                tf.nn.softmax_cross_entropy_with_logits(logits=forward,labels=y))"
   ]
  },
  {
   "cell_type": "code",
   "execution_count": 5,
   "metadata": {},
   "outputs": [],
   "source": [
    "#设置参数\n",
    "train_epochs = 40 #训练40轮\n",
    "batch_size = 50 #单次训练样本数（批次大小）\n",
    "total_batch = int(mnist.train.num_examples/batch_size)#一轮训练有多少批次\n",
    "display_step = 1 #显示粒度\n",
    "learning_rate = 0.01 #学习率"
   ]
  },
  {
   "cell_type": "code",
   "execution_count": 6,
   "metadata": {},
   "outputs": [],
   "source": [
    "#这次选用Adam优化器\n",
    "optimizer = tf.train.AdamOptimizer(learning_rate).minimize(loss_function)"
   ]
  },
  {
   "cell_type": "code",
   "execution_count": 7,
   "metadata": {},
   "outputs": [],
   "source": [
    "correct_prediction = tf.equal(tf.argmax(y,1),tf.argmax(pred,1))\n",
    "accuracy = tf.reduce_mean(tf.cast(correct_prediction,tf.float32))"
   ]
  },
  {
   "cell_type": "code",
   "execution_count": 8,
   "metadata": {},
   "outputs": [],
   "source": [
    "#模型的保存\n",
    "save_step=5\n",
    "\n",
    "import os\n",
    "ckpt_dir = \"./ckpt_dir/\"\n",
    "if not os.path.exists(ckpt_dir):\n",
    "    os.makedirs(ckpt_dir)"
   ]
  },
  {
   "cell_type": "code",
   "execution_count": 9,
   "metadata": {},
   "outputs": [
    {
     "name": "stdout",
     "output_type": "stream",
     "text": [
      "Train Epoch: 01 Loss= 0.159674689 Accuracy= 0.9558\n",
      "Train Epoch: 02 Loss= 0.143118918 Accuracy= 0.9606\n",
      "Train Epoch: 03 Loss= 0.149871662 Accuracy= 0.9582\n",
      "Train Epoch: 04 Loss= 0.142722890 Accuracy= 0.9638\n",
      "Train Epoch: 05 Loss= 0.118842870 Accuracy= 0.9738\n",
      "mnist_h256_model_000005.ckpt saved\n",
      "Train Epoch: 06 Loss= 0.137711257 Accuracy= 0.9694\n",
      "Train Epoch: 07 Loss= 0.152837500 Accuracy= 0.9682\n",
      "Train Epoch: 08 Loss= 0.148624286 Accuracy= 0.9726\n",
      "Train Epoch: 09 Loss= 0.158202693 Accuracy= 0.9734\n",
      "Train Epoch: 10 Loss= 0.165626585 Accuracy= 0.9730\n",
      "mnist_h256_model_000010.ckpt saved\n",
      "Train Epoch: 11 Loss= 0.143554434 Accuracy= 0.9714\n",
      "Train Epoch: 12 Loss= 0.152044684 Accuracy= 0.9726\n",
      "Train Epoch: 13 Loss= 0.176515922 Accuracy= 0.9708\n",
      "Train Epoch: 14 Loss= 0.148503512 Accuracy= 0.9734\n",
      "Train Epoch: 15 Loss= 0.163351461 Accuracy= 0.9774\n",
      "mnist_h256_model_000015.ckpt saved\n",
      "Train Epoch: 16 Loss= 0.178613201 Accuracy= 0.9692\n",
      "Train Epoch: 17 Loss= 0.200772747 Accuracy= 0.9692\n",
      "Train Epoch: 18 Loss= 0.212800875 Accuracy= 0.9750\n",
      "Train Epoch: 19 Loss= 0.236556053 Accuracy= 0.9660\n",
      "Train Epoch: 20 Loss= 0.236530244 Accuracy= 0.9694\n",
      "mnist_h256_model_000020.ckpt saved\n",
      "Train Epoch: 21 Loss= 0.186820731 Accuracy= 0.9756\n",
      "Train Epoch: 22 Loss= 0.210443512 Accuracy= 0.9696\n",
      "Train Epoch: 23 Loss= 0.218888208 Accuracy= 0.9726\n",
      "Train Epoch: 24 Loss= 0.226412773 Accuracy= 0.9748\n",
      "Train Epoch: 25 Loss= 0.167282715 Accuracy= 0.9742\n",
      "mnist_h256_model_000025.ckpt saved\n",
      "Train Epoch: 26 Loss= 0.215906084 Accuracy= 0.9742\n",
      "Train Epoch: 27 Loss= 0.224557251 Accuracy= 0.9734\n",
      "Train Epoch: 28 Loss= 0.338059515 Accuracy= 0.9666\n",
      "Train Epoch: 29 Loss= 0.282108873 Accuracy= 0.9704\n",
      "Train Epoch: 30 Loss= 0.318486691 Accuracy= 0.9690\n",
      "mnist_h256_model_000030.ckpt saved\n",
      "Train Epoch: 31 Loss= 0.316288412 Accuracy= 0.9710\n",
      "Train Epoch: 32 Loss= 0.241397530 Accuracy= 0.9692\n",
      "Train Epoch: 33 Loss= 0.255487710 Accuracy= 0.9628\n",
      "Train Epoch: 34 Loss= 0.241551861 Accuracy= 0.9742\n",
      "Train Epoch: 35 Loss= 0.318900675 Accuracy= 0.9730\n",
      "mnist_h256_model_000035.ckpt saved\n",
      "Train Epoch: 36 Loss= 0.407358795 Accuracy= 0.9692\n",
      "Train Epoch: 37 Loss= 0.400538951 Accuracy= 0.9726\n",
      "Train Epoch: 38 Loss= 0.405909091 Accuracy= 0.9740\n",
      "Train Epoch: 39 Loss= 0.485895395 Accuracy= 0.9684\n",
      "Train Epoch: 40 Loss= 0.274539888 Accuracy= 0.9750\n",
      "mnist_h256_model_000040.ckpt saved\n",
      "Model saved!\n",
      "Train Finished!\n",
      "It takes: 93.08\n"
     ]
    }
   ],
   "source": [
    "#声明完所有变量后 调用tf.train.Saver()\n",
    "saver = tf.train.Saver()\n",
    "\n",
    "#开始训练\n",
    "from time import time\n",
    "startTime=time()\n",
    "\n",
    "sess = tf.Session()\n",
    "init = tf.global_variables_initializer()#变量初始化\n",
    "sess.run(init)\n",
    "\n",
    "for epoch in range(train_epochs):\n",
    "    for batch in range(total_batch):\n",
    "        xs,ys = mnist.train.next_batch(batch_size)#读取批次数据\n",
    "        sess.run(optimizer,feed_dict={x:xs,y:ys})#执行批次训练\n",
    "        \n",
    "    #total_batch个批次训练完成后 使用验证数据计算误差与准确率 验证集没有分批\n",
    "    loss,acc = sess.run([loss_function,accuracy],\n",
    "                       feed_dict={x:mnist.validation.images,y:mnist.validation.labels})\n",
    "    \n",
    "    #打印训练过程中的详细信息\n",
    "    if (epoch+1) % display_step ==0:\n",
    "        print(\"Train Epoch:\",'%02d' % (epoch+1),\"Loss=\",\"{:.9f}\".format(loss),\\\n",
    "              \"Accuracy=\",\"{:.4f}\".format(acc))\n",
    "        \n",
    "    if (epoch+1) % save_step ==0:\n",
    "        saver.save(sess,os.path.join(ckpt_dir,\n",
    "                                    'mnist_h256_model_{:06d}.ckpt'.format(epoch+1)))\n",
    "        print( 'mnist_h256_model_{:06d}.ckpt saved'.format(epoch+1))\n",
    "\n",
    "saver.save(sess,os.path.join(ckpt_dir,'mnist_h256_model.ckpt'))\n",
    "print(\"Model saved!\")\n",
    "duration = time()-startTime\n",
    "print(\"Train Finished!\")\n",
    "print(\"It takes:\",\"{:.2f}\".format(duration))"
   ]
  },
  {
   "cell_type": "code",
   "execution_count": 10,
   "metadata": {},
   "outputs": [
    {
     "name": "stdout",
     "output_type": "stream",
     "text": [
      "Test Accuracy: 0.9755\n"
     ]
    }
   ],
   "source": [
    "#用测试集数据进行测试 看看准确率\n",
    "acc_test = sess.run(accuracy,\n",
    "                   feed_dict={x:mnist.test.images,y:mnist.test.labels})\n",
    "print(\"Test Accuracy:\",acc_test)"
   ]
  },
  {
   "cell_type": "markdown",
   "metadata": {},
   "source": [
    "注：对于隐藏层的构建 可以 写一个函数 不用每次定义W和b"
   ]
  },
  {
   "cell_type": "code",
   "execution_count": null,
   "metadata": {},
   "outputs": [],
   "source": []
  }
 ],
 "metadata": {
  "kernelspec": {
   "display_name": "Python 3",
   "language": "python",
   "name": "python3"
  },
  "language_info": {
   "codemirror_mode": {
    "name": "ipython",
    "version": 3
   },
   "file_extension": ".py",
   "mimetype": "text/x-python",
   "name": "python",
   "nbconvert_exporter": "python",
   "pygments_lexer": "ipython3",
   "version": "3.6.5"
  }
 },
 "nbformat": 4,
 "nbformat_minor": 2
}
